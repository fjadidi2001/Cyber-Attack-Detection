{
  "nbformat": 4,
  "nbformat_minor": 0,
  "metadata": {
    "colab": {
      "provenance": [],
      "gpuType": "T4",
      "authorship_tag": "ABX9TyO/ACIaBdZvMnFuwxOycy/P",
      "include_colab_link": true
    },
    "kernelspec": {
      "name": "python3",
      "display_name": "Python 3"
    },
    "language_info": {
      "name": "python"
    },
    "accelerator": "GPU"
  },
  "cells": [
    {
      "cell_type": "markdown",
      "metadata": {
        "id": "view-in-github",
        "colab_type": "text"
      },
      "source": [
        "<a href=\"https://colab.research.google.com/github/fjadidi2001/Cyber-Attack-Detection/blob/main/CyberAttackDetection.ipynb\" target=\"_parent\"><img src=\"https://colab.research.google.com/assets/colab-badge.svg\" alt=\"Open In Colab\"/></a>"
      ]
    },
    {
      "cell_type": "markdown",
      "source": [
        "# FlowChart"
      ],
      "metadata": {
        "id": "2OYrAS-e0DNK"
      }
    },
    {
      "cell_type": "code",
      "execution_count": 2,
      "metadata": {
        "colab": {
          "base_uri": "https://localhost:8080/",
          "height": 35
        },
        "id": "kki9cyway1lD",
        "outputId": "86d33d92-5858-469f-a132-3b849097038d"
      },
      "outputs": [
        {
          "output_type": "execute_result",
          "data": {
            "text/plain": [
              "'flowchart.png'"
            ],
            "application/vnd.google.colaboratory.intrinsic+json": {
              "type": "string"
            }
          },
          "metadata": {},
          "execution_count": 2
        }
      ],
      "source": [
        "from graphviz import Digraph\n",
        "\n",
        "dot = Digraph(comment='Cyber Attack Detection Flowchart')\n",
        "dot.node('A', 'Start')\n",
        "dot.node('B', 'Define Problem & Scope')\n",
        "dot.node('C', 'Collect Dataset')\n",
        "dot.node('D', 'Preprocess Data')\n",
        "dot.node('E', 'Perform EDA')\n",
        "dot.node('F', 'Select Model')\n",
        "dot.node('G', 'Train Model')\n",
        "dot.node('H', 'Evaluate Model')\n",
        "dot.node('I', 'Optimize Model')\n",
        "dot.node('J', 'Deploy Model')\n",
        "dot.node('K', 'Monitor & Retrain')\n",
        "dot.node('L', 'End')\n",
        "\n",
        "dot.edges(['AB', 'BC', 'CD', 'DE', 'EF', 'FG', 'GH', 'HJ', 'JK', 'KL'])\n",
        "dot.edge('H', 'I', label='If performance poor')\n",
        "dot.edge('I', 'G', label='Retrain')\n",
        "\n",
        "dot.render('flowchart', format='png', view=True)"
      ]
    },
    {
      "cell_type": "code",
      "source": [
        "import pandas as pd\n",
        "import numpy as np\n",
        "import matplotlib.pyplot as plt\n",
        "import seaborn as sns\n",
        "import zipfile\n",
        "import os\n",
        "from google.colab import drive\n",
        "from IPython.display import Image\n",
        "import torch\n",
        "from sklearn.preprocessing import StandardScaler\n",
        "from sklearn.impute import SimpleImputer\n",
        "import psutil\n",
        "import warnings\n",
        "warnings.filterwarnings('ignore')\n",
        "\n",
        "# Function to monitor memory usage\n",
        "def print_memory_usage(step_name):\n",
        "    process = psutil.Process()\n",
        "    mem_info = process.memory_info()\n",
        "    print(f\"{step_name} - Memory usage: {mem_info.rss / 1024**2:.2f} MB\")\n",
        "\n",
        "# Step 1: Setup and Extract Dataset\n",
        "def setup_and_extract():\n",
        "    print(\"\\nStep 1: Setup and Extract Dataset\")\n",
        "    # Mount Google Drive\n",
        "    drive.mount('/content/drive', force_remount=True)\n",
        "\n",
        "    # Set device\n",
        "    device = torch.device(\"cuda\" if torch.cuda.is_available() else \"cpu\")\n",
        "    print(f\"Using device: {device}\")\n",
        "\n",
        "    # Paths\n",
        "    zip_path = '/content/drive/MyDrive/network-intrusion-dataset.zip'\n",
        "    extract_dir = '/content/cicids2017/'\n",
        "\n",
        "    # Unzip the dataset\n",
        "    try:\n",
        "        with zipfile.ZipFile(zip_path, 'r') as zip_ref:\n",
        "            zip_ref.extractall(extract_dir)\n",
        "        print(\"Dataset extracted successfully.\")\n",
        "    except FileNotFoundError:\n",
        "        print(f\"Error: Zip file not found at {zip_path}. Please check the path.\")\n",
        "        return None, None\n",
        "\n",
        "    # Find CSV files\n",
        "    csv_files = []\n",
        "    for root, _, files in os.walk(extract_dir):\n",
        "        for file in files:\n",
        "            if file.endswith('.csv'):\n",
        "                csv_files.append(os.path.join(root, file))\n",
        "    print(\"Found CSV files:\")\n",
        "    for file in csv_files:\n",
        "        print(f\"  {file}\")\n",
        "\n",
        "    if not csv_files:\n",
        "        print(\"Error: No CSV files found in\", extract_dir)\n",
        "        return None, None\n",
        "\n",
        "    print_memory_usage(\"Step 1\")\n",
        "    return csv_files, extract_dir\n",
        "\n",
        "csv_files, extract_dir = setup_and_extract()\n",
        "if csv_files is None:\n",
        "    raise SystemExit(\"Stopping due to error in Step 1.\")"
      ],
      "metadata": {
        "colab": {
          "base_uri": "https://localhost:8080/"
        },
        "id": "rJ3tDUbeCEtX",
        "outputId": "bee67254-f111-449b-e55e-c8bcd8ade352"
      },
      "execution_count": 1,
      "outputs": [
        {
          "output_type": "stream",
          "name": "stdout",
          "text": [
            "\n",
            "Step 1: Setup and Extract Dataset\n",
            "Mounted at /content/drive\n",
            "Using device: cuda\n",
            "Dataset extracted successfully.\n",
            "Found CSV files:\n",
            "  /content/cicids2017/Friday-WorkingHours-Afternoon-DDos.pcap_ISCX.csv\n",
            "  /content/cicids2017/Tuesday-WorkingHours.pcap_ISCX.csv\n",
            "  /content/cicids2017/Friday-WorkingHours-Afternoon-PortScan.pcap_ISCX.csv\n",
            "  /content/cicids2017/Wednesday-workingHours.pcap_ISCX.csv\n",
            "  /content/cicids2017/Thursday-WorkingHours-Afternoon-Infilteration.pcap_ISCX.csv\n",
            "  /content/cicids2017/Friday-WorkingHours-Morning.pcap_ISCX.csv\n",
            "  /content/cicids2017/Monday-WorkingHours.pcap_ISCX.csv\n",
            "  /content/cicids2017/Thursday-WorkingHours-Morning-WebAttacks.pcap_ISCX.csv\n",
            "Step 1 - Memory usage: 592.70 MB\n"
          ]
        }
      ]
    },
    {
      "cell_type": "code",
      "source": [
        "# Step 2: Load and Combine Datasets\n",
        "def load_and_combine_data(csv_files):\n",
        "    print(\"\\nStep 2: Load and Combine Datasets\")\n",
        "    keep_cols = [' Destination Port', ' Flow Duration', ' Total Fwd Packets',\n",
        "                 ' Total Backward Packets', 'Flow Bytes/s', ' Label']\n",
        "    data_frames = []\n",
        "\n",
        "    for file in csv_files:\n",
        "        try:\n",
        "            chunks = pd.read_csv(file, encoding='latin1', low_memory=False,\n",
        "                                usecols=keep_cols, chunksize=100000)\n",
        "            for chunk in chunks:\n",
        "                # Optimize data types\n",
        "                for col in chunk.select_dtypes(include=['int64']).columns:\n",
        "                    chunk[col] = chunk[col].astype('int32')\n",
        "                for col in chunk.select_dtypes(include=['float64']).columns:\n",
        "                    chunk[col] = chunk[col].astype('float32')\n",
        "                data_frames.append(chunk)\n",
        "        except Exception as e:\n",
        "            print(f\"Error loading {file}: {e}\")\n",
        "\n",
        "    if not data_frames:\n",
        "        print(\"Error: No data loaded.\")\n",
        "        return None\n",
        "\n",
        "    df = pd.concat(data_frames, ignore_index=True)\n",
        "    print(f\"Dataset shape: {df.shape}\")\n",
        "    print_memory_usage(\"Step 2\")\n",
        "    return df\n",
        "\n",
        "df = load_and_combine_data(csv_files)\n",
        "if df is None:\n",
        "    raise SystemExit(\"Stopping due to error in Step 2.\")"
      ],
      "metadata": {
        "colab": {
          "base_uri": "https://localhost:8080/"
        },
        "id": "TYMQLcnyC8GX",
        "outputId": "1946c270-1b61-4668-9cd1-17a2df953920"
      },
      "execution_count": 2,
      "outputs": [
        {
          "output_type": "stream",
          "name": "stdout",
          "text": [
            "\n",
            "Step 2: Load and Combine Datasets\n",
            "Dataset shape: (2830743, 6)\n",
            "Step 2 - Memory usage: 761.77 MB\n"
          ]
        }
      ]
    },
    {
      "cell_type": "code",
      "source": [
        "# Step 3: Initial Data Inspection\n",
        "def inspect_data(df):\n",
        "    print(\"\\nStep 3: Initial Data Inspection\")\n",
        "    print(\"\\nFirst 5 rows:\")\n",
        "    print(df.head())\n",
        "    print(\"\\nColumn names:\")\n",
        "    print(df.columns.tolist())\n",
        "    print(\"\\nData types:\")\n",
        "    print(df.dtypes)\n",
        "    print(\"\\nBasic statistics:\")\n",
        "    print(df.describe())\n",
        "\n",
        "    # Visualize columns\n",
        "    plt.figure(figsize=(8, 4))\n",
        "    plt.bar(range(len(df.columns)), [1] * len(df.columns))\n",
        "    plt.xticks(range(len(df.columns)), df.columns, rotation=45)\n",
        "    plt.title(\"Dataset Columns\")\n",
        "    plt.tight_layout()\n",
        "    plt.savefig('columns.png')\n",
        "    plt.close()\n",
        "\n",
        "    # Display plot\n",
        "    display(Image('columns.png'))\n",
        "    print_memory_usage(\"Step 3\")\n",
        "\n",
        "inspect_data(df)"
      ],
      "metadata": {
        "colab": {
          "base_uri": "https://localhost:8080/",
          "height": 1000
        },
        "id": "CWx9VmNjDI5B",
        "outputId": "3a7fa7e5-aadc-420d-e6ee-2d1a827a94a8"
      },
      "execution_count": 3,
      "outputs": [
        {
          "output_type": "stream",
          "name": "stdout",
          "text": [
            "\n",
            "Step 3: Initial Data Inspection\n",
            "\n",
            "First 5 rows:\n",
            "    Destination Port   Flow Duration   Total Fwd Packets  \\\n",
            "0              54865               3                   2   \n",
            "1              55054             109                   1   \n",
            "2              55055              52                   1   \n",
            "3              46236              34                   1   \n",
            "4              54863               3                   2   \n",
            "\n",
            "    Total Backward Packets  Flow Bytes/s   Label  \n",
            "0                        0  4.000000e+06  BENIGN  \n",
            "1                        1  1.100917e+05  BENIGN  \n",
            "2                        1  2.307692e+05  BENIGN  \n",
            "3                        1  3.529412e+05  BENIGN  \n",
            "4                        0  4.000000e+06  BENIGN  \n",
            "\n",
            "Column names:\n",
            "[' Destination Port', ' Flow Duration', ' Total Fwd Packets', ' Total Backward Packets', 'Flow Bytes/s', ' Label']\n",
            "\n",
            "Data types:\n",
            " Destination Port            int32\n",
            " Flow Duration               int32\n",
            " Total Fwd Packets           int32\n",
            " Total Backward Packets      int32\n",
            "Flow Bytes/s               float32\n",
            " Label                      object\n",
            "dtype: object\n",
            "\n",
            "Basic statistics:\n",
            "        Destination Port   Flow Duration   Total Fwd Packets  \\\n",
            "count       2.830743e+06    2.830743e+06        2.830743e+06   \n",
            "mean        8.071483e+03    1.478566e+07        9.361160e+00   \n",
            "std         1.828363e+04    3.365374e+07        7.496728e+02   \n",
            "min         0.000000e+00   -1.300000e+01        1.000000e+00   \n",
            "25%         5.300000e+01    1.550000e+02        2.000000e+00   \n",
            "50%         8.000000e+01    3.131600e+04        2.000000e+00   \n",
            "75%         4.430000e+02    3.204828e+06        5.000000e+00   \n",
            "max         6.553500e+04    1.200000e+08        2.197590e+05   \n",
            "\n",
            "        Total Backward Packets  Flow Bytes/s  \n",
            "count             2.830743e+06  2.829385e+06  \n",
            "mean              1.039377e+01           inf  \n",
            "std               9.973883e+02           NaN  \n",
            "min               0.000000e+00 -2.610000e+08  \n",
            "25%               1.000000e+00  1.193197e+02  \n",
            "50%               2.000000e+00  4.595549e+03  \n",
            "75%               4.000000e+00  1.666667e+05  \n",
            "max               2.919220e+05           inf  \n"
          ]
        },
        {
          "output_type": "display_data",
          "data": {
            "image/png": "[encoded data removed]",
            "text/plain": [
              "<IPython.core.display.Image object>"
            ]
          },
          "metadata": {}
        },
        {
          "output_type": "stream",
          "name": "stdout",
          "text": [
            "Step 3 - Memory usage: 758.30 MB\n"
          ]
        }
      ]
    },
    {
      "cell_type": "code",
      "source": [],
      "metadata": {
        "id": "cpxFmIwXDNNg"
      },
      "execution_count": null,
      "outputs": []
    }
  ]
}
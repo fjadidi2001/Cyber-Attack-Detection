{
  "nbformat": 4,
  "nbformat_minor": 0,
  "metadata": {
    "colab": {
      "provenance": [],
      "authorship_tag": "ABX9TyP2PSmdF6D2NymCsfFQl7TG",
      "include_colab_link": true
    },
    "kernelspec": {
      "name": "python3",
      "display_name": "Python 3"
    },
    "language_info": {
      "name": "python"
    }
  },
  "cells": [
    {
      "cell_type": "markdown",
      "metadata": {
        "id": "view-in-github",
        "colab_type": "text"
      },
      "source": [
        "<a href=\"https://colab.research.google.com/github/fjadidi2001/Cyber-Attack-Detection/blob/main/CyberAttackDetection.ipynb\" target=\"_parent\"><img src=\"https://colab.research.google.com/assets/colab-badge.svg\" alt=\"Open In Colab\"/></a>"
      ]
    },
    {
      "cell_type": "markdown",
      "source": [
        "# FlowChart"
      ],
      "metadata": {
        "id": "2OYrAS-e0DNK"
      }
    },
    {
      "cell_type": "code",
      "execution_count": 1,
      "metadata": {
        "colab": {
          "base_uri": "https://localhost:8080/",
          "height": 35
        },
        "id": "kki9cyway1lD",
        "outputId": "3e055ecc-3ccb-4d7c-ef1e-18ba444ffb4c"
      },
      "outputs": [
        {
          "output_type": "execute_result",
          "data": {
            "text/plain": [
              "'flowchart.png'"
            ],
            "application/vnd.google.colaboratory.intrinsic+json": {
              "type": "string"
            }
          },
          "metadata": {},
          "execution_count": 1
        }
      ],
      "source": [
        "from graphviz import Digraph\n",
        "\n",
        "dot = Digraph(comment='Cyber Attack Detection Flowchart')\n",
        "dot.node('A', 'Start')\n",
        "dot.node('B', 'Define Problem & Scope')\n",
        "dot.node('C', 'Collect Dataset')\n",
        "dot.node('D', 'Preprocess Data')\n",
        "dot.node('E', 'Perform EDA')\n",
        "dot.node('F', 'Select Model')\n",
        "dot.node('G', 'Train Model')\n",
        "dot.node('H', 'Evaluate Model')\n",
        "dot.node('I', 'Optimize Model')\n",
        "dot.node('J', 'Deploy Model')\n",
        "dot.node('K', 'Monitor & Retrain')\n",
        "dot.node('L', 'End')\n",
        "\n",
        "dot.edges(['AB', 'BC', 'CD', 'DE', 'EF', 'FG', 'GH', 'HJ', 'JK', 'KL'])\n",
        "dot.edge('H', 'I', label='If performance poor')\n",
        "dot.edge('I', 'G', label='Retrain')\n",
        "\n",
        "dot.render('flowchart', format='png', view=True)"
      ]
    },
    {
      "cell_type": "code",
      "source": [],
      "metadata": {
        "id": "r9r-CFHS0G8J"
      },
      "execution_count": null,
      "outputs": []
    }
  ]
}
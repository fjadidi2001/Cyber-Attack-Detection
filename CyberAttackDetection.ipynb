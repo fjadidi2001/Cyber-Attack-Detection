{
  "nbformat": 4,
  "nbformat_minor": 0,
  "metadata": {
    "colab": {
      "provenance": [],
      "gpuType": "T4",
      "authorship_tag": "ABX9TyOKMzYIJ1Rimk0hAnj1Dt/q",
      "include_colab_link": true
    },
    "kernelspec": {
      "name": "python3",
      "display_name": "Python 3"
    },
    "language_info": {
      "name": "python"
    },
    "accelerator": "GPU"
  },
  "cells": [
    {
      "cell_type": "markdown",
      "metadata": {
        "id": "view-in-github",
        "colab_type": "text"
      },
      "source": [
        "<a href=\"https://colab.research.google.com/github/fjadidi2001/Cyber-Attack-Detection/blob/main/CyberAttackDetection.ipynb\" target=\"_parent\"><img src=\"https://colab.research.google.com/assets/colab-badge.svg\" alt=\"Open In Colab\"/></a>"
      ]
    },
    {
      "cell_type": "markdown",
      "source": [
        "# FlowChart"
      ],
      "metadata": {
        "id": "2OYrAS-e0DNK"
      }
    },
    {
      "cell_type": "code",
      "execution_count": 2,
      "metadata": {
        "colab": {
          "base_uri": "https://localhost:8080/",
          "height": 35
        },
        "id": "kki9cyway1lD",
        "outputId": "86d33d92-5858-469f-a132-3b849097038d"
      },
      "outputs": [
        {
          "output_type": "execute_result",
          "data": {
            "text/plain": [
              "'flowchart.png'"
            ],
            "application/vnd.google.colaboratory.intrinsic+json": {
              "type": "string"
            }
          },
          "metadata": {},
          "execution_count": 2
        }
      ],
      "source": [
        "from graphviz import Digraph\n",
        "\n",
        "dot = Digraph(comment='Cyber Attack Detection Flowchart')\n",
        "dot.node('A', 'Start')\n",
        "dot.node('B', 'Define Problem & Scope')\n",
        "dot.node('C', 'Collect Dataset')\n",
        "dot.node('D', 'Preprocess Data')\n",
        "dot.node('E', 'Perform EDA')\n",
        "dot.node('F', 'Select Model')\n",
        "dot.node('G', 'Train Model')\n",
        "dot.node('H', 'Evaluate Model')\n",
        "dot.node('I', 'Optimize Model')\n",
        "dot.node('J', 'Deploy Model')\n",
        "dot.node('K', 'Monitor & Retrain')\n",
        "dot.node('L', 'End')\n",
        "\n",
        "dot.edges(['AB', 'BC', 'CD', 'DE', 'EF', 'FG', 'GH', 'HJ', 'JK', 'KL'])\n",
        "dot.edge('H', 'I', label='If performance poor')\n",
        "dot.edge('I', 'G', label='Retrain')\n",
        "\n",
        "dot.render('flowchart', format='png', view=True)"
      ]
    },
    {
      "cell_type": "code",
      "source": [
        "import pandas as pd\n",
        "import numpy as np\n",
        "import matplotlib.pyplot as plt\n",
        "import seaborn as sns\n",
        "import zipfile\n",
        "import os\n",
        "from google.colab import drive\n",
        "from IPython.display import Image\n",
        "import torch\n",
        "from sklearn.preprocessing import StandardScaler\n",
        "from sklearn.impute import SimpleImputer\n",
        "import psutil\n",
        "import warnings\n",
        "warnings.filterwarnings('ignore')\n",
        "\n",
        "# Function to monitor memory usage\n",
        "def print_memory_usage(step_name):\n",
        "    process = psutil.Process()\n",
        "    mem_info = process.memory_info()\n",
        "    print(f\"{step_name} - Memory usage: {mem_info.rss / 1024**2:.2f} MB\")\n",
        "\n",
        "# Step 1: Setup and Extract Dataset\n",
        "def setup_and_extract():\n",
        "    print(\"\\nStep 1: Setup and Extract Dataset\")\n",
        "    # Mount Google Drive\n",
        "    drive.mount('/content/drive', force_remount=True)\n",
        "\n",
        "    # Set device\n",
        "    device = torch.device(\"cuda\" if torch.cuda.is_available() else \"cpu\")\n",
        "    print(f\"Using device: {device}\")\n",
        "\n",
        "    # Paths\n",
        "    zip_path = '/content/drive/MyDrive/network-intrusion-dataset.zip'\n",
        "    extract_dir = '/content/cicids2017/'\n",
        "\n",
        "    # Unzip the dataset\n",
        "    try:\n",
        "        with zipfile.ZipFile(zip_path, 'r') as zip_ref:\n",
        "            zip_ref.extractall(extract_dir)\n",
        "        print(\"Dataset extracted successfully.\")\n",
        "    except FileNotFoundError:\n",
        "        print(f\"Error: Zip file not found at {zip_path}. Please check the path.\")\n",
        "        return None, None\n",
        "\n",
        "    # Find CSV files\n",
        "    csv_files = []\n",
        "    for root, _, files in os.walk(extract_dir):\n",
        "        for file in files:\n",
        "            if file.endswith('.csv'):\n",
        "                csv_files.append(os.path.join(root, file))\n",
        "    print(\"Found CSV files:\")\n",
        "    for file in csv_files:\n",
        "        print(f\"  {file}\")\n",
        "\n",
        "    if not csv_files:\n",
        "        print(\"Error: No CSV files found in\", extract_dir)\n",
        "        return None, None\n",
        "\n",
        "    print_memory_usage(\"Step 1\")\n",
        "    return csv_files, extract_dir\n",
        "\n",
        "csv_files, extract_dir = setup_and_extract()\n",
        "if csv_files is None:\n",
        "    raise SystemExit(\"Stopping due to error in Step 1.\")"
      ],
      "metadata": {
        "colab": {
          "base_uri": "https://localhost:8080/"
        },
        "id": "rJ3tDUbeCEtX",
        "outputId": "bee67254-f111-449b-e55e-c8bcd8ade352"
      },
      "execution_count": 1,
      "outputs": [
        {
          "output_type": "stream",
          "name": "stdout",
          "text": [
            "\n",
            "Step 1: Setup and Extract Dataset\n",
            "Mounted at /content/drive\n",
            "Using device: cuda\n",
            "Dataset extracted successfully.\n",
            "Found CSV files:\n",
            "  /content/cicids2017/Friday-WorkingHours-Afternoon-DDos.pcap_ISCX.csv\n",
            "  /content/cicids2017/Tuesday-WorkingHours.pcap_ISCX.csv\n",
            "  /content/cicids2017/Friday-WorkingHours-Afternoon-PortScan.pcap_ISCX.csv\n",
            "  /content/cicids2017/Wednesday-workingHours.pcap_ISCX.csv\n",
            "  /content/cicids2017/Thursday-WorkingHours-Afternoon-Infilteration.pcap_ISCX.csv\n",
            "  /content/cicids2017/Friday-WorkingHours-Morning.pcap_ISCX.csv\n",
            "  /content/cicids2017/Monday-WorkingHours.pcap_ISCX.csv\n",
            "  /content/cicids2017/Thursday-WorkingHours-Morning-WebAttacks.pcap_ISCX.csv\n",
            "Step 1 - Memory usage: 592.70 MB\n"
          ]
        }
      ]
    }
  ]
}
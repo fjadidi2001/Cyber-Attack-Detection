{
  "nbformat": 4,
  "nbformat_minor": 0,
  "metadata": {
    "colab": {
      "provenance": [],
      "gpuType": "T4",
      "authorship_tag": "ABX9TyN3bOqSJhvSdquZmxtr/kAC",
      "include_colab_link": true
    },
    "kernelspec": {
      "name": "python3",
      "display_name": "Python 3"
    },
    "language_info": {
      "name": "python"
    },
    "accelerator": "GPU"
  },
  "cells": [
    {
      "cell_type": "markdown",
      "metadata": {
        "id": "view-in-github",
        "colab_type": "text"
      },
      "source": [
        "<a href=\"https://colab.research.google.com/github/fjadidi2001/Cyber-Attack-Detection/blob/main/satellite.ipynb\" target=\"_parent\"><img src=\"https://colab.research.google.com/assets/colab-badge.svg\" alt=\"Open In Colab\"/></a>"
      ]
    },
    {
      "cell_type": "markdown",
      "source": [
        "# Cell 1: Setup and Authentication\n",
        "\n",
        "\n"
      ],
      "metadata": {
        "id": "tMPCysa4E3VC"
      }
    },
    {
      "cell_type": "code",
      "execution_count": 1,
      "metadata": {
        "id": "QfU2fzUYiW47",
        "colab": {
          "base_uri": "https://localhost:8080/"
        },
        "outputId": "3cf3f61d-79bb-4822-ab50-0e58e3fe043c"
      },
      "outputs": [
        {
          "output_type": "stream",
          "name": "stdout",
          "text": [
            "\u001b[2K   \u001b[90m━━━━━━━━━━━━━━━━━━━━━━━━━━━━━━━━━━━━━━━━\u001b[0m \u001b[32m22.2/22.2 MB\u001b[0m \u001b[31m58.3 MB/s\u001b[0m eta \u001b[36m0:00:00\u001b[0m\n",
            "\u001b[?25hLibraries installed and imported successfully!\n"
          ]
        }
      ],
      "source": [
        "# Install required libraries\n",
        "!pip install earthengine-api --quiet\n",
        "!pip install rasterio --quiet\n",
        "!pip install opencv-python-headless --quiet\n",
        "!pip install scikit-image --quiet\n",
        "\n",
        "# Import libraries\n",
        "import ee\n",
        "import numpy as np\n",
        "import cv2\n",
        "import rasterio\n",
        "from rasterio.plot import show\n",
        "import matplotlib.pyplot as plt\n",
        "from skimage import exposure\n",
        "from skimage.filters import threshold_otsu\n",
        "import folium\n",
        "from google.colab import output\n",
        "output.enable_custom_widget_manager()  # Enable Folium map display in Colab\n",
        "\n",
        "print(\"Libraries installed and imported successfully!\")"
      ]
    }
  ]
}
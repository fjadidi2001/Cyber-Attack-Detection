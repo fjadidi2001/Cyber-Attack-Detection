{
  "nbformat": 4,
  "nbformat_minor": 0,
  "metadata": {
    "colab": {
      "provenance": [],
      "gpuType": "T4",
      "authorship_tag": "ABX9TyNpYaN7L2X+sPXDWvw0EEIi",
      "include_colab_link": true
    },
    "kernelspec": {
      "name": "python3",
      "display_name": "Python 3"
    },
    "language_info": {
      "name": "python"
    },
    "accelerator": "GPU"
  },
  "cells": [
    {
      "cell_type": "markdown",
      "metadata": {
        "id": "view-in-github",
        "colab_type": "text"
      },
      "source": [
        "<a href=\"https://colab.research.google.com/github/fjadidi2001/Cyber-Attack-Detection/blob/main/DL4cyber.ipynb\" target=\"_parent\"><img src=\"https://colab.research.google.com/assets/colab-badge.svg\" alt=\"Open In Colab\"/></a>"
      ]
    },
    {
      "cell_type": "markdown",
      "source": [
        "# Step 1: Setup Environment and Unzip the Dataset"
      ],
      "metadata": {
        "id": "H2aNfpDcjcZE"
      }
    },
    {
      "cell_type": "markdown",
      "source": [
        "- Install necessary libraries.\n",
        "- Mount Google Drive and unzip the dataset."
      ],
      "metadata": {
        "id": "tGdxQozHjm_F"
      }
    },
    {
      "cell_type": "code",
      "source": [
        "# Import libraries\n",
        "import pandas as pd\n",
        "import numpy as np\n",
        "import tensorflow as tf\n",
        "from sklearn.model_selection import train_test_split\n",
        "from sklearn.preprocessing import StandardScaler, LabelEncoder\n",
        "from sklearn.impute import SimpleImputer\n",
        "import matplotlib.pyplot as plt\n",
        "import seaborn as sns\n",
        "from google.colab import drive\n",
        "import os\n",
        "import zipfile"
      ],
      "metadata": {
        "id": "sriHWMmKee2W"
      },
      "execution_count": 1,
      "outputs": []
    },
    {
      "cell_type": "code",
      "source": [
        "# Mount Google Drive\n",
        "drive.mount('/content/drive')"
      ],
      "metadata": {
        "colab": {
          "base_uri": "https://localhost:8080/"
        },
        "id": "txjXnxFLexog",
        "outputId": "8e988603-3455-4f86-daaa-7d0daf0f513b"
      },
      "execution_count": 2,
      "outputs": [
        {
          "output_type": "stream",
          "name": "stdout",
          "text": [
            "Drive already mounted at /content/drive; to attempt to forcibly remount, call drive.mount(\"/content/drive\", force_remount=True).\n"
          ]
        }
      ]
    },
    {
      "cell_type": "code",
      "source": [
        "# Path to the ZIP file in Google Drive\n",
        "zip_path = '/content/drive/MyDrive/network-intrusion-dataset.zip'\n",
        "extract_dir = '/content/cic-ids2017/'"
      ],
      "metadata": {
        "id": "OfEOMVrSe_MP"
      },
      "execution_count": 3,
      "outputs": []
    },
    {
      "cell_type": "code",
      "source": [
        "# Unzip the file\n",
        "with zipfile.ZipFile(zip_path, 'r') as zip_ref:\n",
        "    zip_ref.extractall(extract_dir)"
      ],
      "metadata": {
        "id": "YYnDlD_IfcUk"
      },
      "execution_count": 4,
      "outputs": []
    },
    {
      "cell_type": "code",
      "source": [
        "# List extracted files\n",
        "csv_files = [f for f in os.listdir(extract_dir) if f.endswith('.csv')]\n",
        "print(\"Extracted CSV files:\", csv_files)"
      ],
      "metadata": {
        "colab": {
          "base_uri": "https://localhost:8080/"
        },
        "id": "HhpljfTdfleV",
        "outputId": "928a811d-f115-4f9b-8604-a20ee7a45391"
      },
      "execution_count": 5,
      "outputs": [
        {
          "output_type": "stream",
          "name": "stdout",
          "text": [
            "Extracted CSV files: ['Friday-WorkingHours-Afternoon-DDos.pcap_ISCX.csv', 'Friday-WorkingHours-Morning.pcap_ISCX.csv', 'Friday-WorkingHours-Afternoon-PortScan.pcap_ISCX.csv', 'Thursday-WorkingHours-Afternoon-Infilteration.pcap_ISCX.csv', 'Monday-WorkingHours.pcap_ISCX.csv', 'Thursday-WorkingHours-Morning-WebAttacks.pcap_ISCX.csv', 'Wednesday-workingHours.pcap_ISCX.csv', 'Tuesday-WorkingHours.pcap_ISCX.csv']\n"
          ]
        }
      ]
    },
    {
      "cell_type": "code",
      "source": [
        "# Visualization: Table of Extracted Files\n",
        "files_df = pd.DataFrame(csv_files, columns=['CSV Files'])\n",
        "print(\"\\nTable of Extracted Files:\")\n",
        "print(files_df)"
      ],
      "metadata": {
        "colab": {
          "base_uri": "https://localhost:8080/"
        },
        "id": "9N9nRrA9g9xV",
        "outputId": "cd989987-3c01-4d62-df45-6687ce63b7f2"
      },
      "execution_count": 6,
      "outputs": [
        {
          "output_type": "stream",
          "name": "stdout",
          "text": [
            "\n",
            "Table of Extracted Files:\n",
            "                                           CSV Files\n",
            "0   Friday-WorkingHours-Afternoon-DDos.pcap_ISCX.csv\n",
            "1          Friday-WorkingHours-Morning.pcap_ISCX.csv\n",
            "2  Friday-WorkingHours-Afternoon-PortScan.pcap_IS...\n",
            "3  Thursday-WorkingHours-Afternoon-Infilteration....\n",
            "4                  Monday-WorkingHours.pcap_ISCX.csv\n",
            "5  Thursday-WorkingHours-Morning-WebAttacks.pcap_...\n",
            "6               Wednesday-workingHours.pcap_ISCX.csv\n",
            "7                 Tuesday-WorkingHours.pcap_ISCX.csv\n"
          ]
        }
      ]
    },
    {
      "cell_type": "markdown",
      "source": [
        "# Step 2: Load and Preprocess Data"
      ],
      "metadata": {
        "id": "IZnJVSdbZKyL"
      }
    },
    {
      "cell_type": "markdown",
      "source": [
        "- Combine all CSV files into a single DataFrame.\n",
        "- Handle missing values, encode categorical features, and normalize numerical features.\n",
        "- Split into training, validation, and test sets.\n",
        "- Visualize class distribution and feature correlations."
      ],
      "metadata": {
        "id": "es_loA8FZTXX"
      }
    },
    {
      "cell_type": "code",
      "source": [
        "# Combine all CSV files into one DataFrame and sample 10% to reduce memory usage\n",
        "dataframes = []\n",
        "for csv_file in csv_files:\n",
        "    df = pd.read_csv(os.path.join(extract_dir, csv_file))\n",
        "    # Sample 10% of each file to manage RAM\n",
        "    df_sampled = df.sample(frac=0.1, random_state=42)\n",
        "    dataframes.append(df_sampled)\n",
        "\n",
        "data = pd.concat(dataframes, ignore_index=True)\n",
        "\n",
        "# Clean column names\n",
        "data.columns = data.columns.str.strip()\n",
        "\n",
        "# Replace infinity with NaN\n",
        "data.replace([np.inf, -np.inf], np.nan, inplace=True)\n",
        "\n",
        "# Handle missing values with median imputation for numerical columns\n",
        "numerical_cols = data.select_dtypes(include=[np.number]).columns\n",
        "imputer = SimpleImputer(strategy='median')\n",
        "data_imputed = pd.DataFrame(imputer.fit_transform(data[numerical_cols]),\n",
        "                            columns=numerical_cols)\n",
        "\n",
        "# Handle categorical columns (e.g., 'Label') with mode imputation\n",
        "categorical_cols = data.select_dtypes(exclude=[np.number]).columns\n",
        "for col in categorical_cols:\n",
        "    data_imputed[col] = data[col].fillna(data[col].mode()[0])\n",
        "\n",
        "# Encode categorical features (Label)\n",
        "le = LabelEncoder()\n",
        "data_imputed['Label'] = le.fit_transform(data_imputed['Label'])\n",
        "\n",
        "# Separate features and labels\n",
        "X = data_imputed.drop('Label', axis=1)\n",
        "y = data_imputed['Label']\n",
        "\n",
        "# Normalize numerical features\n",
        "scaler = StandardScaler()\n",
        "X = scaler.fit_transform(X)\n",
        "\n",
        "# Split into training, validation, and test sets\n",
        "X_train, X_temp, y_train, y_temp = train_test_split(X, y, test_size=0.3, random_state=42)\n",
        "X_val, X_test, y_val, y_test = train_test_split(X_temp, y_temp, test_size=0.5, random_state=42)\n",
        "\n",
        "# Visualization 1: Missing and Infinite Values Bar Chart\n",
        "missing_before = data.isnull().sum().sum()\n",
        "inf_before = data.isin([np.inf, -np.inf]).sum().sum()\n",
        "missing_after = data_imputed.isnull().sum().sum()\n",
        "plt.figure(figsize=(10, 6))\n",
        "plt.bar(['Missing Before', 'Infinite Before', 'Missing After'],\n",
        "        [missing_before, inf_before, missing_after],\n",
        "        color=['orange', 'red', 'green'])\n",
        "plt.title('Missing and Infinite Values Before and After Handling')\n",
        "plt.ylabel('Count')\n",
        "plt.show()\n",
        "\n",
        "# Visualization 2: Dataset Summary Table\n",
        "summary_table = pd.DataFrame({\n",
        "    'Feature Count': [X.shape[1]],\n",
        "    'Total Rows': [X.shape[0]],\n",
        "    'Classes': [len(np.unique(y))],\n",
        "    'Training Samples': [X_train.shape[0]],\n",
        "    'Validation Samples': [X_val.shape[0]],\n",
        "    'Test Samples': [X_test.shape[0]]\n",
        "})\n",
        "print(\"\\nDataset Summary Table:\")\n",
        "print(summary_table)\n",
        "\n",
        "# Visualization 3: Class Distribution Bar Chart\n",
        "plt.figure(figsize=(10, 6))\n",
        "sns.countplot(x=y)\n",
        "plt.title('Class Distribution in Sampled CIC-IDS2017')\n",
        "plt.xlabel('Class (Encoded)')\n",
        "plt.ylabel('Count')\n",
        "plt.show()"
      ],
      "metadata": {
        "id": "ulTa0unSjG49",
        "outputId": "d59e28fd-eaf1-4943-a5f3-c4774b7006ab",
        "colab": {
          "base_uri": "https://localhost:8080/",
          "height": 1000
        }
      },
      "execution_count": 7,
      "outputs": [
        {
          "output_type": "display_data",
          "data": {
            "text/plain": [
              "<Figure size 1000x600 with 1 Axes>"
            ],
            "image/png": "[encoded data removed]"
          },
          "metadata": {}
        },
        {
          "output_type": "stream",
          "name": "stdout",
          "text": [
            "\n",
            "Dataset Summary Table:\n",
            "   Feature Count  Total Rows  Classes  Training Samples  Validation Samples  \\\n",
            "0             78      283074       15            198151               42461   \n",
            "\n",
            "   Test Samples  \n",
            "0         42462  \n"
          ]
        },
        {
          "output_type": "display_data",
          "data": {
            "text/plain": [
              "<Figure size 1000x600 with 1 Axes>"
            ],
            "image/png": "[encoded data removed]"
          },
          "metadata": {}
        }
      ]
    },
    {
      "cell_type": "markdown",
      "source": [
        "# Step 3: Build and Train the Deep Learning Model"
      ],
      "metadata": {
        "id": "m9cxKsDwZeDx"
      }
    },
    {
      "cell_type": "markdown",
      "source": [
        "- Use a Multi-Layer Perceptron (MLP) for classification.\n",
        "- Train with validation and plot training history."
      ],
      "metadata": {
        "id": "xNDMccf6ZiJ8"
      }
    },
    {
      "cell_type": "markdown",
      "source": [
        "# Step 4: Evaluate and Visualize Results"
      ],
      "metadata": {
        "id": "BE9izjDaZ30C"
      }
    },
    {
      "cell_type": "markdown",
      "source": [
        "- Compute metrics (accuracy, precision, recall, F1-score).\n",
        "- Generate confusion matrix, ROC curve, pie chart of predictions, and scatter plots."
      ],
      "metadata": {
        "id": "KB8Aik6CZ8Gd"
      }
    },
    {
      "cell_type": "code",
      "execution_count": null,
      "metadata": {
        "id": "EtxQkvJOik1y"
      },
      "outputs": [],
      "source": [
        "# Step 1: Setup Environment and Unzip Dataset\n",
        "!pip install tensorflow seaborn\n",
        "\n",
        "\n",
        "\n",
        "# Path to the ZIP file in Google Drive (adjust the path as needed)\n",
        "zip_path = '/content/drive/MyDrive/network-intrusion-dataset.zip'\n",
        "extract_dir = '/content/cic-ids2017/'\n",
        "\n",
        "# Unzip the file\n",
        "with zipfile.ZipFile(zip_path, 'r') as zip_ref:\n",
        "    zip_ref.extractall(extract_dir)\n",
        "\n",
        "# List extracted files\n",
        "csv_files = [f for f in os.listdir(extract_dir) if f.endswith('.csv')]\n",
        "print(\"Extracted CSV files:\", csv_files)\n",
        "\n",
        "# Step 2: Load and Preprocess Data\n",
        "# Combine all CSV files into one DataFrame\n",
        "dataframes = []\n",
        "for csv_file in csv_files:\n",
        "    df = pd.read_csv(os.path.join(extract_dir, csv_file))\n",
        "    dataframes.append(df)\n",
        "\n",
        "data = pd.concat(dataframes, ignore_index=True)\n",
        "\n",
        "# Clean column names (remove leading/trailing spaces)\n",
        "data.columns = data.columns.str.strip()\n",
        "\n",
        "# Handle missing values (drop rows with NaN or infinite values)\n",
        "data.replace([np.inf, -np.inf], np.nan, inplace=True)\n",
        "data.dropna(inplace=True)\n",
        "\n",
        "# Encode categorical features (e.g., 'Label')\n",
        "le = LabelEncoder()\n",
        "data['Label'] = le.fit_transform(data['Label'])\n",
        "\n",
        "# Separate features and labels\n",
        "X = data.drop('Label', axis=1)\n",
        "y = data['Label']\n",
        "\n",
        "# Normalize numerical features\n",
        "scaler = StandardScaler()\n",
        "X = scaler.fit_transform(X)\n",
        "\n",
        "# Split into training, validation, and test sets\n",
        "X_train, X_temp, y_train, y_temp = train_test_split(X, y, test_size=0.3, random_state=42)\n",
        "X_val, X_test, y_val, y_test = train_test_split(X_temp, y_temp, test_size=0.5, random_state=42)\n",
        "\n",
        "# Visualization 1: Class Distribution\n",
        "plt.figure(figsize=(10, 6))\n",
        "sns.countplot(x=data['Label'])\n",
        "plt.title('Class Distribution in CIC-IDS2017')\n",
        "plt.xlabel('Class (Encoded)')\n",
        "plt.ylabel('Count')\n",
        "plt.show()\n",
        "\n",
        "# Visualization 2: Correlation Heatmap (using a subset for speed)\n",
        "subset = data.sample(1000, random_state=42)\n",
        "plt.figure(figsize=(12, 10))\n",
        "sns.heatmap(subset.corr(), annot=False, cmap='coolwarm')\n",
        "plt.title('Feature Correlation Heatmap')\n",
        "plt.show()\n",
        "\n",
        "# Step 3: Build and Train the Model\n",
        "model = tf.keras.Sequential([\n",
        "    tf.keras.layers.Dense(128, activation='relu', input_shape=(X_train.shape[1],)),\n",
        "    tf.keras.layers.Dropout(0.3),\n",
        "    tf.keras.layers.Dense(64, activation='relu'),\n",
        "    tf.keras.layers.Dropout(0.3),\n",
        "    tf.keras.layers.Dense(32, activation='relu'),\n",
        "    tf.keras.layers.Dense(len(np.unique(y_train)), activation='softmax')  # Multi-class output\n",
        "])\n",
        "\n",
        "# Compile the model\n",
        "model.compile(optimizer='adam', loss='sparse_categorical_crossentropy', metrics=['accuracy'])\n",
        "\n",
        "# Train the model\n",
        "history = model.fit(X_train, y_train, epochs=20, batch_size=32, validation_data=(X_val, y_val))\n",
        "\n",
        "# Visualization 3: Training History\n",
        "plt.figure(figsize=(12, 4))\n",
        "plt.subplot(1, 2, 1)\n",
        "plt.plot(history.history['loss'], label='Train Loss')\n",
        "plt.plot(history.history['val_loss'], label='Val Loss')\n",
        "plt.title('Loss Over Epochs')\n",
        "plt.legend()\n",
        "plt.subplot(1, 2, 2)\n",
        "plt.plot(history.history['accuracy'], label='Train Accuracy')\n",
        "plt.plot(history.history['val_accuracy'], label='Val Accuracy')\n",
        "plt.title('Accuracy Over Epochs')\n",
        "plt.legend()\n",
        "plt.show()\n",
        "\n",
        "# Step 4: Evaluate and Visualize Results\n",
        "from sklearn.metrics import confusion_matrix, classification_report, roc_curve, auc\n",
        "\n",
        "# Predict on test set\n",
        "y_pred = model.predict(X_test)\n",
        "y_pred_classes = np.argmax(y_pred, axis=1)\n",
        "\n",
        "# Confusion Matrix\n",
        "cm = confusion_matrix(y_test, y_pred_classes)\n",
        "plt.figure(figsize=(8, 6))\n",
        "sns.heatmap(cm, annot=True, fmt='d', cmap='Blues')\n",
        "plt.title('Confusion Matrix')\n",
        "plt.xlabel('Predicted')\n",
        "plt.ylabel('True')\n",
        "plt.show()\n",
        "\n",
        "# Classification Report\n",
        "print(\"Classification Report:\\n\", classification_report(y_test, y_pred_classes))\n",
        "\n",
        "# ROC Curve (for binary classification; adapt for multi-class if needed)\n",
        "if len(np.unique(y_test)) == 2:  # Binary case\n",
        "    fpr, tpr, _ = roc_curve(y_test, y_pred[:, 1])\n",
        "    roc_auc = auc(fpr, tpr)\n",
        "    plt.figure(figsize=(8, 6))\n",
        "    plt.plot(fpr, tpr, label=f'ROC Curve (AUC = {roc_auc:.2f})')\n",
        "    plt.plot([0, 1], [0, 1], 'k--')\n",
        "    plt.title('ROC Curve')\n",
        "    plt.xlabel('False Positive Rate')\n",
        "    plt.ylabel('True Positive Rate')\n",
        "    plt.legend()\n",
        "    plt.show()\n",
        "else:\n",
        "    print(\"ROC curve not plotted (multi-class scenario).\")\n",
        "\n",
        "# Visualization 4: Pie Chart of Predicted Classes\n",
        "pred_counts = pd.Series(y_pred_classes).value_counts()\n",
        "plt.figure(figsize=(6, 6))\n",
        "plt.pie(pred_counts, labels=pred_counts.index, autopct='%1.1f%%')\n",
        "plt.title('Predicted Class Distribution')\n",
        "plt.show()\n",
        "\n",
        "# Visualization 5: Scatter Plot of Two Features (e.g., first two features)\n",
        "plt.figure(figsize=(10, 6))\n",
        "sns.scatterplot(x=X_test[:, 0], y=X_test[:, 1], hue=y_pred_classes, palette='deep')\n",
        "plt.title('Scatter Plot of First Two Features by Predicted Class')\n",
        "plt.xlabel('Feature 1 (Normalized)')\n",
        "plt.ylabel('Feature 2 (Normalized)')\n",
        "plt.show()"
      ]
    }
  ]
}